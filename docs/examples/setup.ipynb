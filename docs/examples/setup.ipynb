{
 "cells": [
  {
   "cell_type": "markdown",
   "metadata": {
    "colab_type": "text",
    "id": "spgydwe4FY9j"
   },
   "source": [
    "## Getting the Grid\n",
    "\n",
    "To begin, we need a spectral model library that we will use for our fitting. One common example are the PHOENIX models, most recently computed by T.O. Husser. We provide many interfaces directly with different libraries, which can be viewed in [Raw Grid Interfaces](api/grid_tools.rst#raw-grid-interfaces).\n",
    "\n",
    "As a convenience, we provide a helper to download PHOENIX models from the Goettingen servers"
   ]
  },
  {
   "cell_type": "code",
   "execution_count": 1,
   "metadata": {
    "colab": {
     "base_uri": "https://localhost:8080/",
     "height": 54
    },
    "colab_type": "code",
    "id": "BuJfe4XyERQo",
    "outputId": "75d34e98-cff9-4c24-8551-3a8be4c66a0c"
   },
   "outputs": [
    {
     "name": "stderr",
     "output_type": "stream",
     "text": [
      "lte07400-6.00+1.0.PHOENIX-ACES-AGSS-COND-2011-HiRes.fits: 100%|██████████| 490/490 [26:09<00:00,  4.80s/it]\n"
     ]
    }
   ],
   "source": [
    "import itertools\n",
    "import numpy as np\n",
    "\n",
    "from Starfish.grid_tools import download_PHOENIX_models\n",
    "\n",
    "T = np.hstack([np.arange(5900, 7000, 100), np.arange(7000, 7500, 200)])\n",
    "logg = np.arange(3.0, 6.01, 0.5)\n",
    "Z = np.arange(-1, 1.01, 0.5)\n",
    "params = list(itertools.product(T, logg, Z))\n",
    "\n",
    "download_PHOENIX_models(path='PHOENIX', parameters=params)"
   ]
  },
  {
   "cell_type": "markdown",
   "metadata": {
    "colab_type": "text",
    "id": "O76RgrCVGILs"
   },
   "source": [
    "Now that we have the files downloaded, let's set up a grid interface"
   ]
  },
  {
   "cell_type": "code",
   "execution_count": 2,
   "metadata": {
    "colab": {},
    "colab_type": "code",
    "id": "TJtk9ecYEMBe"
   },
   "outputs": [],
   "source": [
    "from Starfish.grid_tools import PHOENIXGridInterfaceNoAlpha\n",
    "\n",
    "grid = PHOENIXGridInterfaceNoAlpha(path='PHOENIX')"
   ]
  },
  {
   "cell_type": "markdown",
   "metadata": {
    "colab_type": "text",
    "id": "zOywmJdgGRU2"
   },
   "source": [
    "From here, we will want to set up our HDF5 interface that will allow us to go on to using the spectral emulator, but first we need to determine our model subset and instrument.\n",
    "\n",
    "## Setting up the HDF5 Interface\n",
    "\n",
    "We set up an HDF5 interface in order to allow much quicker reading and writing than compared to loading FITS files over and over again. In addition, when considering the application to our likelihood methods, we know that for a given dataset, any effects characteristic of the instrument can be pre-applied to our models, saving on computation time during the maximum likelihood estimation.\n",
    "\n",
    "Looking towards our fitting examples, we know we will try fitting some data from the TRES spectrograph. We provide many popular spectrographs in our grid tools, including TRES.\n",
    "\n",
    "Let’s also say that, for a given dataset (in our future examples we use WASP 14 so let’s consider that), we want to only use a reasonable subset of our original model grid. WASP 14 is currently labeled as an F5V star, so let’s create a subset around that classification."
   ]
  },
  {
   "cell_type": "code",
   "execution_count": 3,
   "metadata": {
    "colab": {
     "base_uri": "https://localhost:8080/",
     "height": 54
    },
    "colab_type": "code",
    "id": "DiUf8DK8E46W",
    "outputId": "3c61ea76-561a-4b9d-c7a9-762e6da56fe5"
   },
   "outputs": [
    {
     "name": "stderr",
     "output_type": "stream",
     "text": [
      "Processing [7.4e+03 6.0e+00 1.0e+00]: 100%|██████████| 490/490 [08:02<00:00,  1.00it/s]\n"
     ]
    }
   ],
   "source": [
    "from Starfish.grid_tools.instruments import TRES\n",
    "from Starfish.grid_tools import HDF5Creator\n",
    "\n",
    "ranges = [\n",
    "    [5900, 7400],\n",
    "    [3.0, 6.0],\n",
    "    [-1.0, 1.0]\n",
    "]\n",
    "creator = HDF5Creator(grid, 'F_TRES_grid.hdf5', instrument=TRES(), ranges=ranges)\n",
    "creator.process_grid()"
   ]
  },
  {
   "cell_type": "markdown",
   "metadata": {
    "colab_type": "text",
    "id": "t02wYIl-kGMA"
   },
   "source": [
    "## Setting up the Spectral Emulator\n",
    "\n",
    "Once we have our pre-processed grid, we can make our spectral emulator and train its Gaussian process hyperparameters."
   ]
  },
  {
   "cell_type": "code",
   "execution_count": 4,
   "metadata": {
    "colab": {
     "base_uri": "https://localhost:8080/",
     "height": 382
    },
    "colab_type": "code",
    "id": "5QUlomkCkNuj",
    "outputId": "3540ebf9-0c43-4ab4-daf6-71faf5c76491"
   },
   "outputs": [
    {
     "data": {
      "text/plain": [
       "Emulator\n",
       "--------\n",
       "Trained: False\n",
       "lambda_xi: 2.718\n",
       "Variances:\n",
       "\t10000.00\n",
       "\t10000.00\n",
       "\t10000.00\n",
       "\t10000.00\n",
       "\t10000.00\n",
       "\t10000.00\n",
       "\t10000.00\n",
       "Lengthscales:\n",
       "\t[ 600.00  1.50  1.50 ]\n",
       "\t[ 600.00  1.50  1.50 ]\n",
       "\t[ 600.00  1.50  1.50 ]\n",
       "\t[ 600.00  1.50  1.50 ]\n",
       "\t[ 600.00  1.50  1.50 ]\n",
       "\t[ 600.00  1.50  1.50 ]\n",
       "\t[ 600.00  1.50  1.50 ]\n",
       "Log Likelihood: -761460.31"
      ]
     },
     "execution_count": 4,
     "metadata": {},
     "output_type": "execute_result"
    }
   ],
   "source": [
    "from Starfish.grid_tools import HDF5Interface\n",
    "from Starfish.emulator import Emulator\n",
    "\n",
    "grid = HDF5Interface('F_TRES_grid.hdf5')\n",
    "emu = Emulator.from_grid(grid)\n",
    "emu"
   ]
  },
  {
   "cell_type": "code",
   "execution_count": null,
   "metadata": {
    "colab": {},
    "colab_type": "code",
    "id": "Udo3krt7kV85"
   },
   "outputs": [],
   "source": [
    "%time emu.train()\n",
    "emu"
   ]
  },
  {
   "cell_type": "markdown",
   "metadata": {
    "colab": {},
    "colab_type": "code",
    "id": "2JDpJSR_n2DG"
   },
   "source": [
    "<div class\"alert alert-warning\">\n",
    "\n",
    "**Warning:** Training the emulator will take on the order of minutes to complete. The more eigenspectra that are used as well as the resolution of the spectrograph will mainly dominate this runtime.\n",
    "\n",
    "</div>"
   ]
  },
  {
   "cell_type": "code",
   "execution_count": null,
   "metadata": {},
   "outputs": [],
   "source": []
  }
 ],
 "metadata": {
  "colab": {
   "name": "setup.ipynb",
   "provenance": [],
   "version": "0.3.2"
  },
  "kernelspec": {
   "display_name": "Python 3",
   "language": "python",
   "name": "python3"
  },
  "language_info": {
   "codemirror_mode": {
    "name": "ipython",
    "version": 3
   },
   "file_extension": ".py",
   "mimetype": "text/x-python",
   "name": "python",
   "nbconvert_exporter": "python",
   "pygments_lexer": "ipython3",
   "version": "3.7.0"
  }
 },
 "nbformat": 4,
 "nbformat_minor": 2
}
